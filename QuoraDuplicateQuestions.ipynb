{
  "nbformat": 4,
  "nbformat_minor": 0,
  "metadata": {
    "colab": {
      "name": "QuoraDuplicateQuestions.ipynb",
      "version": "0.3.2",
      "provenance": [],
      "collapsed_sections": [],
      "include_colab_link": true
    },
    "kernelspec": {
      "name": "python3",
      "display_name": "Python 3"
    },
    "accelerator": "GPU"
  },
  "cells": [
    {
      "cell_type": "markdown",
      "metadata": {
        "id": "view-in-github",
        "colab_type": "text"
      },
      "source": [
        "<a href=\"https://colab.research.google.com/github/baahujain/ML/blob/master/QuoraDuplicateQuestions.ipynb\" target=\"_parent\"><img src=\"https://colab.research.google.com/assets/colab-badge.svg\" alt=\"Open In Colab\"/></a>"
      ]
    },
    {
      "cell_type": "code",
      "metadata": {
        "id": "JZ9PZGgoGJIG",
        "colab_type": "code",
        "outputId": "3783110f-684a-44d8-9417-0949369400ac",
        "colab": {
          "base_uri": "https://localhost:8080/",
          "height": 34
        }
      },
      "source": [
        "import pandas as pd\n",
        "import numpy as np\n",
        "import matplotlib.pyplot as plt\n",
        "import keras.layers as layers\n",
        "from keras.models import Model\n",
        "from keras import backend as K\n",
        "from google.colab import drive"
      ],
      "execution_count": 2,
      "outputs": [
        {
          "output_type": "stream",
          "text": [
            "Using TensorFlow backend.\n"
          ],
          "name": "stderr"
        }
      ]
    },
    {
      "cell_type": "code",
      "metadata": {
        "id": "vkmIEHRXFRuR",
        "colab_type": "code",
        "outputId": "1acd5bb8-b6c9-41f0-911e-beaa9d04b2b7",
        "colab": {
          "base_uri": "https://localhost:8080/",
          "height": 124
        }
      },
      "source": [
        "#Mount in the google drive, in google the training data is placed\n",
        "drive.mount('/content/drive')\n",
        "\n"
      ],
      "execution_count": 2,
      "outputs": [
        {
          "output_type": "stream",
          "text": [
            "Go to this URL in a browser: https://accounts.google.com/o/oauth2/auth?client_id=947318989803-6bn6qk8qdgf4n4g3pfee6491hc0brc4i.apps.googleusercontent.com&redirect_uri=urn%3Aietf%3Awg%3Aoauth%3A2.0%3Aoob&scope=email%20https%3A%2F%2Fwww.googleapis.com%2Fauth%2Fdocs.test%20https%3A%2F%2Fwww.googleapis.com%2Fauth%2Fdrive%20https%3A%2F%2Fwww.googleapis.com%2Fauth%2Fdrive.photos.readonly%20https%3A%2F%2Fwww.googleapis.com%2Fauth%2Fpeopleapi.readonly&response_type=code\n",
            "\n",
            "Enter your authorization code:\n",
            "··········\n",
            "Mounted at /content/drive\n"
          ],
          "name": "stdout"
        }
      ]
    },
    {
      "cell_type": "code",
      "metadata": {
        "id": "1-kHG379GKRN",
        "colab_type": "code",
        "colab": {}
      },
      "source": [
        "df = pd.read_csv('/content/drive/My Drive/Colab Notebooks/train.csv')\n"
      ],
      "execution_count": 0,
      "outputs": []
    },
    {
      "cell_type": "code",
      "metadata": {
        "id": "79H4tH4GMxpZ",
        "colab_type": "code",
        "colab": {
          "base_uri": "https://localhost:8080/",
          "height": 286
        },
        "outputId": "ff5ded0f-70e8-4b3e-9f0b-02bdc3ad4721"
      },
      "source": [
        "\n",
        "df.describe()\n",
        "#remove entries which are blank\n",
        "df = df.dropna(subset = ['question1', 'question2'])\n",
        "\n",
        "#Check to see if there is any imbalance between duplicates and non-duplicates in training data\n",
        "plt.bar([\"0\",\"1\"],pd.value_counts(df.dropna()['is_duplicate']))\n"
      ],
      "execution_count": 6,
      "outputs": [
        {
          "output_type": "execute_result",
          "data": {
            "text/plain": [
              "<BarContainer object of 2 artists>"
            ]
          },
          "metadata": {
            "tags": []
          },
          "execution_count": 6
        },
        {
          "output_type": "display_data",
          "data": {
            "image/png": "[encoded data removed]",
            "text/plain": [
              "<Figure size 432x288 with 1 Axes>"
            ]
          },
          "metadata": {
            "tags": []
          }
        }
      ]
    },
    {
      "cell_type": "code",
      "metadata": {
        "id": "OvXDs-nj1SHR",
        "colab_type": "code",
        "colab": {
          "base_uri": "https://localhost:8080/",
          "height": 176
        },
        "outputId": "3465d353-169a-49be-c3bd-c90bce23ab89"
      },
      "source": [
        "\n",
        "\n",
        "import tensorflow as tf\n",
        "import tensorflow_hub as hub\n",
        "url = \"https://tfhub.dev/google/universal-sentence-encoder-large/3\"\n",
        "embed = hub.Module(url)\n",
        "\n",
        "#Get the sentence embedding (universal sentence encoder)\n",
        "def GetEmbedding(x):\n",
        "  return embed(tf.squeeze(tf.cast(x, tf.string)), signature=\"default\", as_dict=True)[\"default\"]\n",
        "  #return embed(x, signature=\"default\", as_dict=True)[\"default\"] "
      ],
      "execution_count": 7,
      "outputs": [
        {
          "output_type": "stream",
          "text": [
            "WARNING: Logging before flag parsing goes to stderr.\n",
            "W0605 11:57:32.571474 140582367655808 __init__.py:56] Some hub symbols are not available because TensorFlow version is less than 1.14\n"
          ],
          "name": "stderr"
        },
        {
          "output_type": "stream",
          "text": [
            "WARNING:tensorflow:From /usr/local/lib/python3.6/dist-packages/tensorflow/python/ops/control_flow_ops.py:3632: colocate_with (from tensorflow.python.framework.ops) is deprecated and will be removed in a future version.\n",
            "Instructions for updating:\n",
            "Colocations handled automatically by placer.\n"
          ],
          "name": "stdout"
        },
        {
          "output_type": "stream",
          "text": [
            "W0605 11:57:33.713819 140582367655808 deprecation.py:323] From /usr/local/lib/python3.6/dist-packages/tensorflow/python/ops/control_flow_ops.py:3632: colocate_with (from tensorflow.python.framework.ops) is deprecated and will be removed in a future version.\n",
            "Instructions for updating:\n",
            "Colocations handled automatically by placer.\n"
          ],
          "name": "stderr"
        }
      ]
    },
    {
      "cell_type": "markdown",
      "metadata": {
        "id": "IuDhSL3Bdth-",
        "colab_type": "text"
      },
      "source": [
        "Create a deep learning model. Here functional APIs are used. We have two input layers to take the 2 sentences. For every sentence we retrieve the sentence embedding.\n",
        "The sentence embeddings are concatenated and passed thru 2 layers of dense layers. Last dense layer has a sigmoid activation to determine if the statements are duplicates or not."
      ]
    },
    {
      "cell_type": "markdown",
      "metadata": {
        "id": "aFFDAHHti2A6",
        "colab_type": "text"
      },
      "source": [
        ""
      ]
    },
    {
      "cell_type": "markdown",
      "metadata": {
        "id": "cta_3qHkeawX",
        "colab_type": "text"
      },
      "source": [
        ""
      ]
    },
    {
      "cell_type": "code",
      "metadata": {
        "id": "iBnCsKXy16uX",
        "colab_type": "code",
        "outputId": "8ceb5ebc-fca7-4209-f27d-a61863fb5cd5",
        "colab": {
          "base_uri": "https://localhost:8080/",
          "height": 697
        }
      },
      "source": [
        "DROP=0.1\n",
        "q1=layers.Input(shape=(1,),dtype=tf.string)\n",
        "embedding_q1 = layers.Lambda(GetEmbedding,output_shape=(512,))(q1)\n",
        "\n",
        "q2=layers.Input(shape=(1,),dtype=tf.string)\n",
        "embedding_q2 = layers.Lambda(GetEmbedding,output_shape=(512,))(q2)\n",
        "\n",
        "x=layers.concatenate([embedding_q1,embedding_q2])\n",
        "x=layers.Dense(200,activation='relu')(x)\n",
        "x=layers.Dropout(0.1)(x)\n",
        "\n",
        "x=layers.Dense(200,activation='relu')(x)\n",
        "x=layers.Dropout(0.1)(x)\n",
        "\n",
        "pred=layers.Dense(2,activation='sigmoid')(x)\n",
        "\n",
        "model = Model(inputs=[q1,q2], outputs=pred)\n",
        "model.compile(loss='binary_crossentropy', optimizer='adam', metrics=['accuracy'])\n",
        "model.summary()"
      ],
      "execution_count": 9,
      "outputs": [
        {
          "output_type": "stream",
          "text": [
            "INFO:tensorflow:Saver not created because there are no variables in the graph to restore\n"
          ],
          "name": "stdout"
        },
        {
          "output_type": "stream",
          "text": [
            "I0605 11:58:56.691562 140582367655808 saver.py:1483] Saver not created because there are no variables in the graph to restore\n"
          ],
          "name": "stderr"
        },
        {
          "output_type": "stream",
          "text": [
            "INFO:tensorflow:Saver not created because there are no variables in the graph to restore\n"
          ],
          "name": "stdout"
        },
        {
          "output_type": "stream",
          "text": [
            "I0605 11:58:57.890139 140582367655808 saver.py:1483] Saver not created because there are no variables in the graph to restore\n"
          ],
          "name": "stderr"
        },
        {
          "output_type": "stream",
          "text": [
            "WARNING:tensorflow:From /usr/local/lib/python3.6/dist-packages/keras/backend/tensorflow_backend.py:3445: calling dropout (from tensorflow.python.ops.nn_ops) with keep_prob is deprecated and will be removed in a future version.\n",
            "Instructions for updating:\n",
            "Please use `rate` instead of `keep_prob`. Rate should be set to `rate = 1 - keep_prob`.\n"
          ],
          "name": "stdout"
        },
        {
          "output_type": "stream",
          "text": [
            "W0605 11:58:58.084727 140582367655808 deprecation.py:506] From /usr/local/lib/python3.6/dist-packages/keras/backend/tensorflow_backend.py:3445: calling dropout (from tensorflow.python.ops.nn_ops) with keep_prob is deprecated and will be removed in a future version.\n",
            "Instructions for updating:\n",
            "Please use `rate` instead of `keep_prob`. Rate should be set to `rate = 1 - keep_prob`.\n"
          ],
          "name": "stderr"
        },
        {
          "output_type": "stream",
          "text": [
            "__________________________________________________________________________________________________\n",
            "Layer (type)                    Output Shape         Param #     Connected to                     \n",
            "==================================================================================================\n",
            "input_1 (InputLayer)            (None, 1)            0                                            \n",
            "__________________________________________________________________________________________________\n",
            "input_2 (InputLayer)            (None, 1)            0                                            \n",
            "__________________________________________________________________________________________________\n",
            "lambda_1 (Lambda)               (None, 512)          0           input_1[0][0]                    \n",
            "__________________________________________________________________________________________________\n",
            "lambda_2 (Lambda)               (None, 512)          0           input_2[0][0]                    \n",
            "__________________________________________________________________________________________________\n",
            "concatenate_1 (Concatenate)     (None, 1024)         0           lambda_1[0][0]                   \n",
            "                                                                 lambda_2[0][0]                   \n",
            "__________________________________________________________________________________________________\n",
            "dense_1 (Dense)                 (None, 200)          205000      concatenate_1[0][0]              \n",
            "__________________________________________________________________________________________________\n",
            "dropout_1 (Dropout)             (None, 200)          0           dense_1[0][0]                    \n",
            "__________________________________________________________________________________________________\n",
            "dense_2 (Dense)                 (None, 200)          40200       dropout_1[0][0]                  \n",
            "__________________________________________________________________________________________________\n",
            "dropout_2 (Dropout)             (None, 200)          0           dense_2[0][0]                    \n",
            "__________________________________________________________________________________________________\n",
            "dense_3 (Dense)                 (None, 2)            402         dropout_2[0][0]                  \n",
            "==================================================================================================\n",
            "Total params: 245,602\n",
            "Trainable params: 245,602\n",
            "Non-trainable params: 0\n",
            "__________________________________________________________________________________________________\n"
          ],
          "name": "stdout"
        }
      ]
    },
    {
      "cell_type": "code",
      "metadata": {
        "id": "cDq-z9SFCZx9",
        "colab_type": "code",
        "colab": {}
      },
      "source": [
        "#Create traning and test data\n",
        "\n",
        "from sklearn.model_selection import train_test_split\n",
        "X1 = df['question1']\n",
        "X2 = df['question2']\n",
        "y = df['is_duplicate']\n",
        "# Using the sklearn to split data in question1 and question2 train and test in the ration 80-20 %\n",
        "X1_train, X1_test,X2_train, X2_test, y_train, y_test = train_test_split(X1, X2, y, test_size=0.2, random_state=42)\n",
        "\n",
        "train_q1 = X1_train.tolist()\n",
        "train_q1 = np.array(train_q1, dtype=object)#[:, np.newaxis]\n",
        "train_q2 = X2_train.tolist()\n",
        "train_q2 = np.array(train_q2, dtype=object)#[:, np.newaxis]\n",
        "\n",
        "train_labels = np.asarray(pd.get_dummies(y_train[:]), dtype = np.int8)\n",
        "\n",
        "test_q1 = X1_test.tolist()\n",
        "test_q1 = np.array(test_q1, dtype=object)#[:, np.newaxis]\n",
        "test_q2 = X2_test.tolist()\n",
        "test_q2 = np.array(test_q2, dtype=object)#[:, np.newaxis]\n",
        "\n",
        "test_labels = np.asarray(pd.get_dummies(y_test[:]), dtype = np.int8)"
      ],
      "execution_count": 0,
      "outputs": []
    },
    {
      "cell_type": "code",
      "metadata": {
        "id": "BtTXb4KLEuJW",
        "colab_type": "code",
        "outputId": "63f7722b-8c1c-47a4-f9b6-717d83b1dbe2",
        "colab": {
          "base_uri": "https://localhost:8080/",
          "height": 436
        }
      },
      "source": [
        "from keras.callbacks import ModelCheckpoint\n",
        "\n",
        "# Training\n",
        "with tf.Session() as session:\n",
        "  K.set_session(session)\n",
        "  session.run(tf.global_variables_initializer())\n",
        "  session.run(tf.tables_initializer())\n",
        "  \n",
        "  filepath=\"/content/drive/My Drive/Colab Notebooks/quoraDup/model-{epoch:02d}-{val_acc:.2f}.hdf5\"\n",
        "  checkpoint = ModelCheckpoint(filepath, monitor='val_loss', verbose=0, save_best_only=False, save_weights_only=True, mode='auto', period=1)\n",
        "  callbacks_list = [checkpoint]\n",
        "\n",
        "  history = model.fit([train_q1, train_q2], \n",
        "            train_labels,\n",
        "            validation_data=([test_q1, test_q2], test_labels),\n",
        "            epochs=10,\n",
        "            batch_size=512, callbacks=callbacks_list)"
      ],
      "execution_count": 0,
      "outputs": [
        {
          "output_type": "stream",
          "text": [
            "Train on 323429 samples, validate on 80858 samples\n",
            "Epoch 1/10\n"
          ],
          "name": "stdout"
        },
        {
          "output_type": "stream",
          "text": [
            "Exception ignored in: <bound method BaseSession._Callable.__del__ of <tensorflow.python.client.session.BaseSession._Callable object at 0x7fdb4f62df60>>\n",
            "Traceback (most recent call last):\n",
            "  File \"/usr/local/lib/python3.6/dist-packages/tensorflow/python/client/session.py\", line 1455, in __del__\n",
            "    self._session._session, self._handle, status)\n",
            "  File \"/usr/local/lib/python3.6/dist-packages/tensorflow/python/framework/errors_impl.py\", line 528, in __exit__\n",
            "    c_api.TF_GetCode(self.status.status))\n",
            "tensorflow.python.framework.errors_impl.CancelledError: Session has been closed.\n"
          ],
          "name": "stderr"
        },
        {
          "output_type": "stream",
          "text": [
            "323072/323429 [============================>.] - ETA: 0s - loss: 0.4472 - acc: 0.7788"
          ],
          "name": "stdout"
        },
        {
          "output_type": "stream",
          "text": [
            "Exception ignored in: <bound method BaseSession._Callable.__del__ of <tensorflow.python.client.session.BaseSession._Callable object at 0x7fdb4f4664a8>>\n",
            "Traceback (most recent call last):\n",
            "  File \"/usr/local/lib/python3.6/dist-packages/tensorflow/python/client/session.py\", line 1455, in __del__\n",
            "    self._session._session, self._handle, status)\n",
            "  File \"/usr/local/lib/python3.6/dist-packages/tensorflow/python/framework/errors_impl.py\", line 528, in __exit__\n",
            "    c_api.TF_GetCode(self.status.status))\n",
            "tensorflow.python.framework.errors_impl.CancelledError: Session has been closed.\n"
          ],
          "name": "stderr"
        },
        {
          "output_type": "stream",
          "text": [
            "\b\b\b\b\b\b\b\b\b\b\b\b\b\b\b\b\b\b\b\b\b\b\b\b\b\b\b\b\b\b\b\b\b\b\b\b\b\b\b\b\b\b\b\b\b\b\b\b\b\b\b\b\b\b\b\b\b\b\b\b\b\b\b\b\b\b\b\b\b\b\b\b\b\b\b\b\b\b\b\b\b\b\b\b\b\r323429/323429 [==============================] - 718s 2ms/step - loss: 0.4471 - acc: 0.7789 - val_loss: 0.3888 - val_acc: 0.8130\n",
            "Epoch 2/10\n",
            "323429/323429 [==============================] - 711s 2ms/step - loss: 0.3758 - acc: 0.8221 - val_loss: 0.3662 - val_acc: 0.8266\n",
            "Epoch 3/10\n",
            "323429/323429 [==============================] - 712s 2ms/step - loss: 0.3555 - acc: 0.8335 - val_loss: 0.3575 - val_acc: 0.8317\n",
            "Epoch 4/10\n",
            "323072/323429 [============================>.] - ETA: 0s - loss: 0.3422 - acc: 0.8417"
          ],
          "name": "stdout"
        }
      ]
    },
    {
      "cell_type": "code",
      "metadata": {
        "id": "kWlziFYhPvbJ",
        "colab_type": "code",
        "colab": {}
      },
      "source": [
        "import numpy as np\n",
        "import tensorflow as tf\n",
        "from keras import backend as K\n",
        "\n",
        "\n",
        "# Predict the similarity of questions\n",
        "with tf.Session() as session:\n",
        "  K.set_session(session)\n",
        "  session.run(tf.global_variables_initializer())\n",
        "  session.run(tf.tables_initializer())\n",
        "  # Loading the save weights\n",
        "  #Modify this to appropriate location\n",
        "  model.load_weights('/content/drive/My Drive/Colab Notebooks/quoraDup/model-10-0.85.hdf5')  \n",
        "\n",
        "\n",
        "  while 1:\n",
        "  \n",
        "    q1 = input(\"Key in your first question -->\")\n",
        "    q2 = input(\"Key in your second question -->\") \n",
        "    q1 = np.array([[q1],[q1]])\n",
        "    q2 = np.array([[q2],[q2]])\n",
        "    predicts = model.predict([q1, q2], verbose=0)\n",
        "    predict_logits = predicts.argmax(axis=1)\n",
        "    print(\"----FINAL RESULT----\")\n",
        "    if(predict_logits[0] == 1):\n",
        "      print(\"****Questions are Similar****\")\n",
        "    else:\n",
        "      print(\"****Questions are not Similar****\")"
      ],
      "execution_count": 0,
      "outputs": []
    }
  ]
}